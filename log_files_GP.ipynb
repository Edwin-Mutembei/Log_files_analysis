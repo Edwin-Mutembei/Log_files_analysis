{
 "cells": [
  {
   "cell_type": "markdown",
   "metadata": {},
   "source": [
    "#### Steps\n",
    "1. Identify log files\\\n",
    "Determine the paths to the log files for each core service\n",
    "2. Read log files\\\n",
    "Use python's file I/O (input/output) operations to read the contents of each log file into memory. You can use the 'open()' function to open a file and read its contents.\n",
    "3. Parse log entries\\\n",
    "Parse each error logs file's contents to identify fatal errr logs and scripts error logs. You can use regular expressions ('re' module) or string manipulation techniques to extract relevant log entries based on specific patterns or keywords indicative of fatal errors or script errors.\n",
    "4. Filter logs by core services\\\n",
    "For each log entry extracted,identify the core service it belongs to by examining the path or filename. Only keep log entries that belong to the specified core services.\n",
    "5. Analyze logs\\\n",
    "This may involve counting the occurences of specific types of errors, aggregating statistics or generating reports."
   ]
  },
  {
   "cell_type": "code",
   "execution_count": null,
   "metadata": {},
   "outputs": [],
   "source": [
    "import os\n",
    "import re\n",
    "\n",
    "# Define paths to log files for each core service\n",
    "log_paths = {\n",
    "    'coresession': '/path/to/coresession/bin/log/file.log', #input the actual file path here\n",
    "    'config': '/path/to/config/bin/log/file.log', #input the actual file path here\n",
    "    'finlistival': '/path/to/finlistival/bin/log/file.log', #input the actual file path here\n",
    "}\n",
    "\n",
    "# Define regular expressions for identifying fatal error logs and script error logs\n",
    "fatal_error_pattern = re.compile(r'FATAL ERROR:', re.IGNORECASE)\n",
    "script_error_pattern = re.compile(r'SCRIPT ERROR:', re.IGNORECASE)\n",
    "\n",
    "# Iterate over log files for each core service\n",
    "for service, log_file in log_paths.items():\n",
    "    # Check if log file exists\n",
    "    if os.path.exists(log_file):\n",
    "        with open(log_file, 'r') as f:\n",
    "            # Read log file contents\n",
    "            log_content = f.read()\n",
    "            # Split log file contents into individual log entries\n",
    "            log_entries = log_content.split('\\n')\n",
    "            # Iterate over log_entries:\n",
    "            for entry in log_entries:\n",
    "                # Check if the entry contains fatal error or script \n",
    "                if fatal_error_pattern.search(entry):\n",
    "                    #process fatal error log entry\n",
    "                    #Extract relevant information or perform analysis\n",
    "\n",
    "                elif script_error_pattern(entry):\n",
    "                    # process script error log entry\n",
    "                    # Extract relevantinformation or perform analysis\n",
    "\n",
    "                else:\n",
    "                    # Skip log entry if it doesn't match any patterns\n",
    "                    continue\n",
    "    else:\n",
    "        print(f'Log file not found for {service}')\n",
    "\n",
    "\n"
   ]
  }
 ],
 "metadata": {
  "language_info": {
   "name": "python"
  }
 },
 "nbformat": 4,
 "nbformat_minor": 2
}
